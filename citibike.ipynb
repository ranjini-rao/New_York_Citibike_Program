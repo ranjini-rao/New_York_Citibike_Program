{
 "cells": [
  {
   "cell_type": "code",
   "execution_count": 1,
   "id": "f4814884",
   "metadata": {},
   "outputs": [],
   "source": [
    "# Import Dependencies\n",
    "import pandas as pd\n",
    "from pathlib import Path"
   ]
  },
  {
   "cell_type": "code",
   "execution_count": 3,
   "id": "d2285ec9",
   "metadata": {},
   "outputs": [
    {
     "name": "stderr",
     "output_type": "stream",
     "text": [
      "/var/folders/zc/0n64qpgd1cv2bxtpk3sqdd4w0000gn/T/ipykernel_13358/4258204023.py:3: DtypeWarning: Columns (7) have mixed types. Specify dtype option on import or set low_memory=False.\n",
      "  NY_citibike_df = pd.read_csv(csv_path)\n"
     ]
    },
    {
     "data": {
      "text/html": [
       "<div>\n",
       "<style scoped>\n",
       "    .dataframe tbody tr th:only-of-type {\n",
       "        vertical-align: middle;\n",
       "    }\n",
       "\n",
       "    .dataframe tbody tr th {\n",
       "        vertical-align: top;\n",
       "    }\n",
       "\n",
       "    .dataframe thead th {\n",
       "        text-align: right;\n",
       "    }\n",
       "</style>\n",
       "<table border=\"1\" class=\"dataframe\">\n",
       "  <thead>\n",
       "    <tr style=\"text-align: right;\">\n",
       "      <th></th>\n",
       "      <th>ride_id</th>\n",
       "      <th>rideable_type</th>\n",
       "      <th>started_at</th>\n",
       "      <th>ended_at</th>\n",
       "      <th>start_station_name</th>\n",
       "      <th>start_station_id</th>\n",
       "      <th>end_station_name</th>\n",
       "      <th>end_station_id</th>\n",
       "      <th>start_lat</th>\n",
       "      <th>start_lng</th>\n",
       "      <th>end_lat</th>\n",
       "      <th>end_lng</th>\n",
       "      <th>member_casual</th>\n",
       "    </tr>\n",
       "  </thead>\n",
       "  <tbody>\n",
       "    <tr>\n",
       "      <th>0</th>\n",
       "      <td>F01D2D54E9E60D6E</td>\n",
       "      <td>classic_bike</td>\n",
       "      <td>10/3/23 2:48</td>\n",
       "      <td>10/3/23 2:48</td>\n",
       "      <td>Columbus Pl &amp; Atlantic Ave</td>\n",
       "      <td>4146.02</td>\n",
       "      <td>Columbus Pl &amp; Atlantic Ave</td>\n",
       "      <td>4146.02</td>\n",
       "      <td>40.677223</td>\n",
       "      <td>-73.922792</td>\n",
       "      <td>40.677170</td>\n",
       "      <td>-73.922850</td>\n",
       "      <td>casual</td>\n",
       "    </tr>\n",
       "    <tr>\n",
       "      <th>1</th>\n",
       "      <td>CAE4EDBEA07001BD</td>\n",
       "      <td>classic_bike</td>\n",
       "      <td>10/11/23 16:03</td>\n",
       "      <td>10/11/23 16:45</td>\n",
       "      <td>Central Park West &amp; W 85 St</td>\n",
       "      <td>7354.01</td>\n",
       "      <td>Central Park West &amp; W 85 St</td>\n",
       "      <td>7354.01</td>\n",
       "      <td>40.784760</td>\n",
       "      <td>-73.969862</td>\n",
       "      <td>40.784760</td>\n",
       "      <td>-73.969862</td>\n",
       "      <td>casual</td>\n",
       "    </tr>\n",
       "    <tr>\n",
       "      <th>2</th>\n",
       "      <td>FDC34BAD31193E07</td>\n",
       "      <td>classic_bike</td>\n",
       "      <td>10/11/23 19:57</td>\n",
       "      <td>10/11/23 20:20</td>\n",
       "      <td>Hicks St &amp; Montague St</td>\n",
       "      <td>4645.09</td>\n",
       "      <td>5 St &amp; 6 Ave</td>\n",
       "      <td>3874.01</td>\n",
       "      <td>40.694974</td>\n",
       "      <td>-73.995936</td>\n",
       "      <td>40.670484</td>\n",
       "      <td>-73.982090</td>\n",
       "      <td>casual</td>\n",
       "    </tr>\n",
       "    <tr>\n",
       "      <th>3</th>\n",
       "      <td>DFEA5E65AE91CE2A</td>\n",
       "      <td>classic_bike</td>\n",
       "      <td>10/10/23 20:18</td>\n",
       "      <td>10/10/23 20:18</td>\n",
       "      <td>Atlantic Ave &amp; Furman St</td>\n",
       "      <td>4614.04</td>\n",
       "      <td>Atlantic Ave &amp; Furman St</td>\n",
       "      <td>4614.04</td>\n",
       "      <td>40.691669</td>\n",
       "      <td>-74.000139</td>\n",
       "      <td>40.691652</td>\n",
       "      <td>-73.999979</td>\n",
       "      <td>casual</td>\n",
       "    </tr>\n",
       "    <tr>\n",
       "      <th>4</th>\n",
       "      <td>48299D8BE9B55255</td>\n",
       "      <td>classic_bike</td>\n",
       "      <td>10/17/23 16:26</td>\n",
       "      <td>10/17/23 16:34</td>\n",
       "      <td>E 41 St &amp; Madison Ave (SE corner)</td>\n",
       "      <td>6432.1</td>\n",
       "      <td>E 58 St &amp; 3 Ave</td>\n",
       "      <td>6762.02</td>\n",
       "      <td>40.751845</td>\n",
       "      <td>-73.979585</td>\n",
       "      <td>40.760958</td>\n",
       "      <td>-73.967245</td>\n",
       "      <td>casual</td>\n",
       "    </tr>\n",
       "  </tbody>\n",
       "</table>\n",
       "</div>"
      ],
      "text/plain": [
       "            ride_id rideable_type      started_at        ended_at  \\\n",
       "0  F01D2D54E9E60D6E  classic_bike    10/3/23 2:48    10/3/23 2:48   \n",
       "1  CAE4EDBEA07001BD  classic_bike  10/11/23 16:03  10/11/23 16:45   \n",
       "2  FDC34BAD31193E07  classic_bike  10/11/23 19:57  10/11/23 20:20   \n",
       "3  DFEA5E65AE91CE2A  classic_bike  10/10/23 20:18  10/10/23 20:18   \n",
       "4  48299D8BE9B55255  classic_bike  10/17/23 16:26  10/17/23 16:34   \n",
       "\n",
       "                  start_station_name start_station_id  \\\n",
       "0         Columbus Pl & Atlantic Ave          4146.02   \n",
       "1        Central Park West & W 85 St          7354.01   \n",
       "2             Hicks St & Montague St          4645.09   \n",
       "3           Atlantic Ave & Furman St          4614.04   \n",
       "4  E 41 St & Madison Ave (SE corner)           6432.1   \n",
       "\n",
       "              end_station_name end_station_id  start_lat  start_lng  \\\n",
       "0   Columbus Pl & Atlantic Ave        4146.02  40.677223 -73.922792   \n",
       "1  Central Park West & W 85 St        7354.01  40.784760 -73.969862   \n",
       "2                 5 St & 6 Ave        3874.01  40.694974 -73.995936   \n",
       "3     Atlantic Ave & Furman St        4614.04  40.691669 -74.000139   \n",
       "4              E 58 St & 3 Ave        6762.02  40.751845 -73.979585   \n",
       "\n",
       "     end_lat    end_lng member_casual  \n",
       "0  40.677170 -73.922850        casual  \n",
       "1  40.784760 -73.969862        casual  \n",
       "2  40.670484 -73.982090        casual  \n",
       "3  40.691652 -73.999979        casual  \n",
       "4  40.760958 -73.967245        casual  "
      ]
     },
     "execution_count": 3,
     "metadata": {},
     "output_type": "execute_result"
    }
   ],
   "source": [
    "# Create a path to the csv and read it into a Pandas DataFrame\n",
    "csv_path = Path(\"202310-citibike-tripdata-raw.csv\")\n",
    "NY_citibike_df = pd.read_csv(csv_path)\n",
    "\n",
    "NY_citibike_df.head()"
   ]
  },
  {
   "cell_type": "code",
   "execution_count": 4,
   "id": "82022dd6",
   "metadata": {},
   "outputs": [
    {
     "name": "stdout",
     "output_type": "stream",
     "text": [
      "<class 'pandas.core.frame.DataFrame'>\n",
      "RangeIndex: 1048575 entries, 0 to 1048574\n",
      "Data columns (total 13 columns):\n",
      " #   Column              Non-Null Count    Dtype  \n",
      "---  ------              --------------    -----  \n",
      " 0   ride_id             1048575 non-null  object \n",
      " 1   rideable_type       1048575 non-null  object \n",
      " 2   started_at          1048575 non-null  object \n",
      " 3   ended_at            1048575 non-null  object \n",
      " 4   start_station_name  1048207 non-null  object \n",
      " 5   start_station_id    1048207 non-null  object \n",
      " 6   end_station_name    1048126 non-null  object \n",
      " 7   end_station_id      1048126 non-null  object \n",
      " 8   start_lat           1048575 non-null  float64\n",
      " 9   start_lng           1048575 non-null  float64\n",
      " 10  end_lat             1048476 non-null  float64\n",
      " 11  end_lng             1048476 non-null  float64\n",
      " 12  member_casual       1048575 non-null  object \n",
      "dtypes: float64(4), object(9)\n",
      "memory usage: 104.0+ MB\n"
     ]
    }
   ],
   "source": [
    "NY_citibike_df.info()"
   ]
  },
  {
   "cell_type": "code",
   "execution_count": 5,
   "id": "af1bea31",
   "metadata": {},
   "outputs": [
    {
     "data": {
      "text/plain": [
       "ride_id               1047758\n",
       "rideable_type         1047758\n",
       "started_at            1047758\n",
       "ended_at              1047758\n",
       "start_station_name    1047758\n",
       "start_station_id      1047758\n",
       "end_station_name      1047758\n",
       "end_station_id        1047758\n",
       "start_lat             1047758\n",
       "start_lng             1047758\n",
       "end_lat               1047758\n",
       "end_lng               1047758\n",
       "member_casual         1047758\n",
       "dtype: int64"
      ]
     },
     "execution_count": 5,
     "metadata": {},
     "output_type": "execute_result"
    }
   ],
   "source": [
    "# Drop null values. \n",
    "NY_citibike_df = NY_citibike_df.dropna()\n",
    "NY_citibike_df.count()"
   ]
  },
  {
   "cell_type": "code",
   "execution_count": 6,
   "id": "3253dc41",
   "metadata": {},
   "outputs": [],
   "source": [
    "NY_citibike_df.to_csv(\"citibike_tripdata.csv\", index=False, header=True)"
   ]
  },
  {
   "cell_type": "code",
   "execution_count": null,
   "id": "3cd25cb5",
   "metadata": {},
   "outputs": [],
   "source": []
  }
 ],
 "metadata": {
  "kernelspec": {
   "display_name": "Python 3 (ipykernel)",
   "language": "python",
   "name": "python3"
  },
  "language_info": {
   "codemirror_mode": {
    "name": "ipython",
    "version": 3
   },
   "file_extension": ".py",
   "mimetype": "text/x-python",
   "name": "python",
   "nbconvert_exporter": "python",
   "pygments_lexer": "ipython3",
   "version": "3.11.4"
  }
 },
 "nbformat": 4,
 "nbformat_minor": 5
}
